{
 "cells": [
  {
   "cell_type": "code",
   "execution_count": 164,
   "metadata": {},
   "outputs": [],
   "source": [
    "import pandas as pd\n",
    "import csv\n",
    "import scipy.stats as stats\n",
    "import matplotlib.pyplot as plt\n",
    "import seaborn as sns\n",
    "\n",
    "#C:\\Users\\DELL\\Downloads"
   ]
  },
  {
   "cell_type": "code",
   "execution_count": 125,
   "metadata": {},
   "outputs": [
    {
     "name": "stdout",
     "output_type": "stream",
     "text": [
      "['Taxon', 'Patient', 'Tissue', 'Stool']\n",
      "['Firmicutes', '1', '632', '305']\n",
      "['Firmicutes', '2', '136', '4182']\n",
      "['Firmicutes', '3', '1174', '703']\n",
      "['Firmicutes', '4', '408', '3946']\n",
      "['Firmicutes', '5', '831', '8605']\n",
      "['Firmicutes', '6', '693', '50']\n",
      "['Firmicutes', '7', '718', '717']\n",
      "['Firmicutes', '8', '173', '33']\n",
      "['Firmicutes', '9', '228', '80']\n",
      "['Firmicutes', '10', '162', '3196']\n",
      "['Firmicutes', '11', '372', '32']\n",
      "['Firmicutes', '12', '4255', '4361']\n",
      "['Firmicutes', '13', '107', '1667']\n",
      "['Firmicutes', '14', '96', '223']\n",
      "['Firmicutes', '15', '281', '2377']\n",
      "['Proteobacteria', '1', '1638', '3886']\n",
      "['Proteobacteria', '2', '2469', '1821']\n",
      "['Proteobacteria', '3', '839', '661']\n",
      "['Proteobacteria', '4', '4414', '18']\n",
      "['Proteobacteria', '5', '12044', '83']\n",
      "['Proteobacteria', '6', '2310', '12']\n",
      "['Proteobacteria', '7', '3053', '547']\n",
      "['Proteobacteria', '8', '395', '2174']\n",
      "['Proteobacteria', '9', '2651', '767']\n",
      "['Proteobacteria', '10', '1195', '76']\n",
      "['Proteobacteria', '11', '6857', '795']\n",
      "['Proteobacteria', '12', '483', '666']\n",
      "['Proteobacteria', '13', '2950', '3994']\n",
      "['Proteobacteria', '14', '1541', '816']\n",
      "['Proteobacteria', '15', '1307', '53']\n",
      "['Actinobacteria', '1', '569', '648']\n",
      "['Actinobacteria', '2', '1590', '4']\n",
      "['Actinobacteria', '3', '25', '2']\n",
      "['Actinobacteria', '4', '259', '300']\n",
      "['Actinobacteria', '5', '568', '7']\n",
      "['Actinobacteria', '6', '1102', '9']\n",
      "['Actinobacteria', '7', '678', '377']\n",
      "['Actinobacteria', '8', '260', '58']\n",
      "['Actinobacteria', '9', '424', '233']\n",
      "['Actinobacteria', '10', '548', '21']\n",
      "['Actinobacteria', '11', '201', '83']\n",
      "['Actinobacteria', '12', '42', '75']\n",
      "['Actinobacteria', '13', '109', '59']\n",
      "['Actinobacteria', '14', '51', '183']\n",
      "['Actinobacteria', '15', '310', '204']\n",
      "['Bacteroidetes', '1', '115', '380']\n",
      "['Bacteroidetes', '2', '67', '0']\n",
      "['Bacteroidetes', '3', '0', '0']\n",
      "['Bacteroidetes', '4', '85', '5']\n",
      "['Bacteroidetes', '5', '143', '7']\n",
      "['Bacteroidetes', '6', '678', '2']\n",
      "['Bacteroidetes', '7', '4829', '209']\n",
      "['Bacteroidetes', '8', '74', '651']\n",
      "['Bacteroidetes', '9', '169', '254']\n",
      "['Bacteroidetes', '10', '106', '10']\n",
      "['Bacteroidetes', '11', '73', '381']\n",
      "['Bacteroidetes', '12', '30', '359']\n",
      "['Bacteroidetes', '13', '51', '51']\n",
      "['Bacteroidetes', '14', '2473', '2314']\n",
      "['Bacteroidetes', '15', '102', '33']\n",
      "['Other', '1', '114', '277']\n",
      "['Other', '2', '195', '18']\n",
      "['Other', '3', '42', '2']\n",
      "['Other', '4', '316', '43']\n",
      "['Other', '5', '202', '40']\n",
      "['Other', '6', '116', '0']\n",
      "['Other', '7', '527', '12']\n",
      "['Other', '8', '357', '11']\n",
      "['Other', '9', '106', '11']\n",
      "['Other', '10', '67', '14']\n",
      "['Other', '11', '203', '6']\n",
      "['Other', '12', '392', '6']\n",
      "['Other', '13', '28', '25']\n",
      "['Other', '14', '12', '22']\n",
      "['Other', '15', '305', '32']\n"
     ]
    }
   ],
   "source": [
    "# Câu 1;\n",
    "with open('C:\\\\thanhhung\\\\microbiome.csv','rt') as f:\n",
    "    df2 = csv.reader(f)\n",
    "    for r in df2 :\n",
    "        print(r)"
   ]
  },
  {
   "cell_type": "code",
   "execution_count": 126,
   "metadata": {},
   "outputs": [
    {
     "data": {
      "text/html": [
       "<div>\n",
       "<style scoped>\n",
       "    .dataframe tbody tr th:only-of-type {\n",
       "        vertical-align: middle;\n",
       "    }\n",
       "\n",
       "    .dataframe tbody tr th {\n",
       "        vertical-align: top;\n",
       "    }\n",
       "\n",
       "    .dataframe thead th {\n",
       "        text-align: right;\n",
       "    }\n",
       "</style>\n",
       "<table border=\"1\" class=\"dataframe\">\n",
       "  <thead>\n",
       "    <tr style=\"text-align: right;\">\n",
       "      <th></th>\n",
       "      <th>Taxon</th>\n",
       "      <th>Patient</th>\n",
       "      <th>Tissue</th>\n",
       "      <th>Stool</th>\n",
       "    </tr>\n",
       "  </thead>\n",
       "  <tbody>\n",
       "    <tr>\n",
       "      <th>0</th>\n",
       "      <td>Firmicutes</td>\n",
       "      <td>1</td>\n",
       "      <td>632</td>\n",
       "      <td>305</td>\n",
       "    </tr>\n",
       "    <tr>\n",
       "      <th>1</th>\n",
       "      <td>Firmicutes</td>\n",
       "      <td>2</td>\n",
       "      <td>136</td>\n",
       "      <td>4182</td>\n",
       "    </tr>\n",
       "    <tr>\n",
       "      <th>2</th>\n",
       "      <td>Firmicutes</td>\n",
       "      <td>3</td>\n",
       "      <td>1174</td>\n",
       "      <td>703</td>\n",
       "    </tr>\n",
       "    <tr>\n",
       "      <th>3</th>\n",
       "      <td>Firmicutes</td>\n",
       "      <td>4</td>\n",
       "      <td>408</td>\n",
       "      <td>3946</td>\n",
       "    </tr>\n",
       "    <tr>\n",
       "      <th>4</th>\n",
       "      <td>Firmicutes</td>\n",
       "      <td>5</td>\n",
       "      <td>831</td>\n",
       "      <td>8605</td>\n",
       "    </tr>\n",
       "    <tr>\n",
       "      <th>...</th>\n",
       "      <td>...</td>\n",
       "      <td>...</td>\n",
       "      <td>...</td>\n",
       "      <td>...</td>\n",
       "    </tr>\n",
       "    <tr>\n",
       "      <th>70</th>\n",
       "      <td>Other</td>\n",
       "      <td>11</td>\n",
       "      <td>203</td>\n",
       "      <td>6</td>\n",
       "    </tr>\n",
       "    <tr>\n",
       "      <th>71</th>\n",
       "      <td>Other</td>\n",
       "      <td>12</td>\n",
       "      <td>392</td>\n",
       "      <td>6</td>\n",
       "    </tr>\n",
       "    <tr>\n",
       "      <th>72</th>\n",
       "      <td>Other</td>\n",
       "      <td>13</td>\n",
       "      <td>28</td>\n",
       "      <td>25</td>\n",
       "    </tr>\n",
       "    <tr>\n",
       "      <th>73</th>\n",
       "      <td>Other</td>\n",
       "      <td>14</td>\n",
       "      <td>12</td>\n",
       "      <td>22</td>\n",
       "    </tr>\n",
       "    <tr>\n",
       "      <th>74</th>\n",
       "      <td>Other</td>\n",
       "      <td>15</td>\n",
       "      <td>305</td>\n",
       "      <td>32</td>\n",
       "    </tr>\n",
       "  </tbody>\n",
       "</table>\n",
       "<p>75 rows × 4 columns</p>\n",
       "</div>"
      ],
      "text/plain": [
       "         Taxon  Patient  Tissue  Stool\n",
       "0   Firmicutes        1     632    305\n",
       "1   Firmicutes        2     136   4182\n",
       "2   Firmicutes        3    1174    703\n",
       "3   Firmicutes        4     408   3946\n",
       "4   Firmicutes        5     831   8605\n",
       "..         ...      ...     ...    ...\n",
       "70       Other       11     203      6\n",
       "71       Other       12     392      6\n",
       "72       Other       13      28     25\n",
       "73       Other       14      12     22\n",
       "74       Other       15     305     32\n",
       "\n",
       "[75 rows x 4 columns]"
      ]
     },
     "execution_count": 126,
     "metadata": {},
     "output_type": "execute_result"
    }
   ],
   "source": [
    "result = pd.read_csv('C:\\\\thanhhung\\\\microbiome.csv')\n",
    "result"
   ]
  },
  {
   "cell_type": "code",
   "execution_count": 127,
   "metadata": {
    "scrolled": true
   },
   "outputs": [
    {
     "data": {
      "text/plain": [
       "8.0"
      ]
     },
     "execution_count": 127,
     "metadata": {},
     "output_type": "execute_result"
    }
   ],
   "source": [
    "# Câu 2:\n",
    "x = result['Patient'].mean()\n",
    "x"
   ]
  },
  {
   "cell_type": "code",
   "execution_count": 128,
   "metadata": {},
   "outputs": [
    {
     "data": {
      "text/plain": [
       "Patient      8.000000\n",
       "Tissue     975.000000\n",
       "Stool      723.786667\n",
       "dtype: float64"
      ]
     },
     "execution_count": 128,
     "metadata": {},
     "output_type": "execute_result"
    }
   ],
   "source": [
    "# Câu 3:\n",
    "a = result[['Patient','Tissue','Stool']].mean()\n",
    "a"
   ]
  },
  {
   "cell_type": "code",
   "execution_count": 129,
   "metadata": {},
   "outputs": [
    {
     "data": {
      "text/plain": [
       "Tissue    310.0\n",
       "Stool      80.0\n",
       "dtype: float64"
      ]
     },
     "execution_count": 129,
     "metadata": {},
     "output_type": "execute_result"
    }
   ],
   "source": [
    "# Câu 4:\n",
    "y = result[['Tissue','Stool']].median()\n",
    "y"
   ]
  },
  {
   "cell_type": "code",
   "execution_count": 130,
   "metadata": {},
   "outputs": [
    {
     "data": {
      "text/html": [
       "<div>\n",
       "<style scoped>\n",
       "    .dataframe tbody tr th:only-of-type {\n",
       "        vertical-align: middle;\n",
       "    }\n",
       "\n",
       "    .dataframe tbody tr th {\n",
       "        vertical-align: top;\n",
       "    }\n",
       "\n",
       "    .dataframe thead th {\n",
       "        text-align: right;\n",
       "    }\n",
       "</style>\n",
       "<table border=\"1\" class=\"dataframe\">\n",
       "  <thead>\n",
       "    <tr style=\"text-align: right;\">\n",
       "      <th></th>\n",
       "      <th>Patient</th>\n",
       "      <th>Tissue</th>\n",
       "      <th>Stool</th>\n",
       "    </tr>\n",
       "  </thead>\n",
       "  <tbody>\n",
       "    <tr>\n",
       "      <th>0</th>\n",
       "      <td>1</td>\n",
       "      <td>42.0</td>\n",
       "      <td>0.0</td>\n",
       "    </tr>\n",
       "    <tr>\n",
       "      <th>1</th>\n",
       "      <td>2</td>\n",
       "      <td>51.0</td>\n",
       "      <td>2.0</td>\n",
       "    </tr>\n",
       "    <tr>\n",
       "      <th>2</th>\n",
       "      <td>3</td>\n",
       "      <td>67.0</td>\n",
       "      <td>NaN</td>\n",
       "    </tr>\n",
       "    <tr>\n",
       "      <th>3</th>\n",
       "      <td>4</td>\n",
       "      <td>106.0</td>\n",
       "      <td>NaN</td>\n",
       "    </tr>\n",
       "    <tr>\n",
       "      <th>4</th>\n",
       "      <td>5</td>\n",
       "      <td>678.0</td>\n",
       "      <td>NaN</td>\n",
       "    </tr>\n",
       "    <tr>\n",
       "      <th>5</th>\n",
       "      <td>6</td>\n",
       "      <td>NaN</td>\n",
       "      <td>NaN</td>\n",
       "    </tr>\n",
       "    <tr>\n",
       "      <th>6</th>\n",
       "      <td>7</td>\n",
       "      <td>NaN</td>\n",
       "      <td>NaN</td>\n",
       "    </tr>\n",
       "    <tr>\n",
       "      <th>7</th>\n",
       "      <td>8</td>\n",
       "      <td>NaN</td>\n",
       "      <td>NaN</td>\n",
       "    </tr>\n",
       "    <tr>\n",
       "      <th>8</th>\n",
       "      <td>9</td>\n",
       "      <td>NaN</td>\n",
       "      <td>NaN</td>\n",
       "    </tr>\n",
       "    <tr>\n",
       "      <th>9</th>\n",
       "      <td>10</td>\n",
       "      <td>NaN</td>\n",
       "      <td>NaN</td>\n",
       "    </tr>\n",
       "    <tr>\n",
       "      <th>10</th>\n",
       "      <td>11</td>\n",
       "      <td>NaN</td>\n",
       "      <td>NaN</td>\n",
       "    </tr>\n",
       "    <tr>\n",
       "      <th>11</th>\n",
       "      <td>12</td>\n",
       "      <td>NaN</td>\n",
       "      <td>NaN</td>\n",
       "    </tr>\n",
       "    <tr>\n",
       "      <th>12</th>\n",
       "      <td>13</td>\n",
       "      <td>NaN</td>\n",
       "      <td>NaN</td>\n",
       "    </tr>\n",
       "    <tr>\n",
       "      <th>13</th>\n",
       "      <td>14</td>\n",
       "      <td>NaN</td>\n",
       "      <td>NaN</td>\n",
       "    </tr>\n",
       "    <tr>\n",
       "      <th>14</th>\n",
       "      <td>15</td>\n",
       "      <td>NaN</td>\n",
       "      <td>NaN</td>\n",
       "    </tr>\n",
       "  </tbody>\n",
       "</table>\n",
       "</div>"
      ],
      "text/plain": [
       "    Patient  Tissue  Stool\n",
       "0         1    42.0    0.0\n",
       "1         2    51.0    2.0\n",
       "2         3    67.0    NaN\n",
       "3         4   106.0    NaN\n",
       "4         5   678.0    NaN\n",
       "5         6     NaN    NaN\n",
       "6         7     NaN    NaN\n",
       "7         8     NaN    NaN\n",
       "8         9     NaN    NaN\n",
       "9        10     NaN    NaN\n",
       "10       11     NaN    NaN\n",
       "11       12     NaN    NaN\n",
       "12       13     NaN    NaN\n",
       "13       14     NaN    NaN\n",
       "14       15     NaN    NaN"
      ]
     },
     "execution_count": 130,
     "metadata": {},
     "output_type": "execute_result"
    }
   ],
   "source": [
    "# Câu 5:\n",
    "b = result[['Patient','Tissue','Stool']].mode()\n",
    "b"
   ]
  },
  {
   "cell_type": "code",
   "execution_count": 131,
   "metadata": {},
   "outputs": [
    {
     "data": {
      "text/plain": [
       "3306370.027027027"
      ]
     },
     "execution_count": 131,
     "metadata": {},
     "output_type": "execute_result"
    }
   ],
   "source": [
    "# Câu 6:\n",
    "c = result['Tissue'].var()\n",
    "c"
   ]
  },
  {
   "cell_type": "code",
   "execution_count": 132,
   "metadata": {},
   "outputs": [
    {
     "data": {
      "text/plain": [
       "Patient    1.891892e+01\n",
       "Tissue     3.306370e+06\n",
       "Stool      2.108251e+06\n",
       "dtype: float64"
      ]
     },
     "execution_count": 132,
     "metadata": {},
     "output_type": "execute_result"
    }
   ],
   "source": [
    "# Câu 7:\n",
    "result.var()"
   ]
  },
  {
   "cell_type": "code",
   "execution_count": 133,
   "metadata": {},
   "outputs": [
    {
     "data": {
      "text/plain": [
       "Patient       4.349588\n",
       "Tissue     1818.342659\n",
       "Stool      1451.981733\n",
       "dtype: float64"
      ]
     },
     "execution_count": 133,
     "metadata": {},
     "output_type": "execute_result"
    }
   ],
   "source": [
    "# Câu 8:\n",
    "d = result.std()\n",
    "d"
   ]
  },
  {
   "cell_type": "code",
   "execution_count": 134,
   "metadata": {},
   "outputs": [
    {
     "data": {
      "text/plain": [
       "0.25    108.0\n",
       "0.50    310.0\n",
       "0.75    835.0\n",
       "Name: Tissue, dtype: float64"
      ]
     },
     "execution_count": 134,
     "metadata": {},
     "output_type": "execute_result"
    }
   ],
   "source": [
    "# Câu 9:\n",
    "e = result.Tissue.quantile((0.25,0.5,0.75))\n",
    "e"
   ]
  },
  {
   "cell_type": "code",
   "execution_count": 135,
   "metadata": {},
   "outputs": [
    {
     "data": {
      "text/plain": [
       "array([-0.18990359, -0.46451635,  0.1101773 , -0.31392225, -0.07972629,\n",
       "       -0.15613064, -0.14228928, -0.44403112, -0.41358011, -0.45012133,\n",
       "       -0.33385382,  1.81598764, -0.48057234, -0.48666254, -0.38423641,\n",
       "        0.36707311,  0.82716022, -0.07529705,  1.90401875,  6.12840462,\n",
       "        0.73912911,  1.15049461, -0.32111977,  0.92792539,  0.12180405,\n",
       "        3.25659734, -0.27239815,  1.09346817,  0.3133686 ,  0.18381338,\n",
       "       -0.22478384,  0.34049768, -0.52597203, -0.39641681, -0.22533749,\n",
       "        0.07031416, -0.16443547, -0.39586316, -0.30506378, -0.23641059,\n",
       "       -0.42852879, -0.5165599 , -0.47946503, -0.51157701, -0.36818042,\n",
       "       -0.4761431 , -0.50271853, -0.5398134 , -0.49275274, -0.46064077,\n",
       "       -0.16443547,  2.13378547, -0.49884295, -0.44624574, -0.48112599,\n",
       "       -0.4993966 , -0.52320376, -0.51157701,  0.82937484, -0.48334061,\n",
       "       -0.47669676, -0.43185072, -0.5165599 , -0.36485849, -0.42797514,\n",
       "       -0.47558945, -0.24803734, -0.34215865, -0.48112599, -0.50271853,\n",
       "       -0.42742148, -0.32278073, -0.52431107, -0.53316954, -0.37094869])"
      ]
     },
     "execution_count": 135,
     "metadata": {},
     "output_type": "execute_result"
    }
   ],
   "source": [
    "# Câu 10:\n",
    "stats.zscore(result['Tissue'])\n"
   ]
  },
  {
   "cell_type": "code",
   "execution_count": 143,
   "metadata": {},
   "outputs": [
    {
     "data": {
      "text/plain": [
       "Taxon      Proteobacteria\n",
       "Patient                15\n",
       "Tissue              12044\n",
       "Stool                8605\n",
       "dtype: object"
      ]
     },
     "execution_count": 143,
     "metadata": {},
     "output_type": "execute_result"
    }
   ],
   "source": [
    "# Câu 11: \n",
    "result.max()"
   ]
  },
  {
   "cell_type": "code",
   "execution_count": 144,
   "metadata": {},
   "outputs": [
    {
     "data": {
      "text/plain": [
       "Taxon      Actinobacteria\n",
       "Patient                 1\n",
       "Tissue                  0\n",
       "Stool                   0\n",
       "dtype: object"
      ]
     },
     "execution_count": 144,
     "metadata": {},
     "output_type": "execute_result"
    }
   ],
   "source": [
    "result.min()"
   ]
  },
  {
   "cell_type": "code",
   "execution_count": 149,
   "metadata": {},
   "outputs": [
    {
     "data": {
      "text/html": [
       "<div>\n",
       "<style scoped>\n",
       "    .dataframe tbody tr th:only-of-type {\n",
       "        vertical-align: middle;\n",
       "    }\n",
       "\n",
       "    .dataframe tbody tr th {\n",
       "        vertical-align: top;\n",
       "    }\n",
       "\n",
       "    .dataframe thead th {\n",
       "        text-align: right;\n",
       "    }\n",
       "</style>\n",
       "<table border=\"1\" class=\"dataframe\">\n",
       "  <thead>\n",
       "    <tr style=\"text-align: right;\">\n",
       "      <th></th>\n",
       "      <th>Patient</th>\n",
       "      <th>Tissue</th>\n",
       "      <th>Stool</th>\n",
       "    </tr>\n",
       "  </thead>\n",
       "  <tbody>\n",
       "    <tr>\n",
       "      <th>count</th>\n",
       "      <td>75.000000</td>\n",
       "      <td>75.000000</td>\n",
       "      <td>75.000000</td>\n",
       "    </tr>\n",
       "    <tr>\n",
       "      <th>mean</th>\n",
       "      <td>8.000000</td>\n",
       "      <td>975.000000</td>\n",
       "      <td>723.786667</td>\n",
       "    </tr>\n",
       "    <tr>\n",
       "      <th>std</th>\n",
       "      <td>4.349588</td>\n",
       "      <td>1818.342659</td>\n",
       "      <td>1451.981733</td>\n",
       "    </tr>\n",
       "    <tr>\n",
       "      <th>min</th>\n",
       "      <td>1.000000</td>\n",
       "      <td>0.000000</td>\n",
       "      <td>0.000000</td>\n",
       "    </tr>\n",
       "    <tr>\n",
       "      <th>25%</th>\n",
       "      <td>4.000000</td>\n",
       "      <td>108.000000</td>\n",
       "      <td>16.000000</td>\n",
       "    </tr>\n",
       "    <tr>\n",
       "      <th>50%</th>\n",
       "      <td>8.000000</td>\n",
       "      <td>310.000000</td>\n",
       "      <td>80.000000</td>\n",
       "    </tr>\n",
       "    <tr>\n",
       "      <th>75%</th>\n",
       "      <td>12.000000</td>\n",
       "      <td>835.000000</td>\n",
       "      <td>656.000000</td>\n",
       "    </tr>\n",
       "    <tr>\n",
       "      <th>max</th>\n",
       "      <td>15.000000</td>\n",
       "      <td>12044.000000</td>\n",
       "      <td>8605.000000</td>\n",
       "    </tr>\n",
       "  </tbody>\n",
       "</table>\n",
       "</div>"
      ],
      "text/plain": [
       "         Patient        Tissue        Stool\n",
       "count  75.000000     75.000000    75.000000\n",
       "mean    8.000000    975.000000   723.786667\n",
       "std     4.349588   1818.342659  1451.981733\n",
       "min     1.000000      0.000000     0.000000\n",
       "25%     4.000000    108.000000    16.000000\n",
       "50%     8.000000    310.000000    80.000000\n",
       "75%    12.000000    835.000000   656.000000\n",
       "max    15.000000  12044.000000  8605.000000"
      ]
     },
     "execution_count": 149,
     "metadata": {},
     "output_type": "execute_result"
    }
   ],
   "source": [
    "# Câu 12:\n",
    "result.describe()"
   ]
  },
  {
   "cell_type": "code",
   "execution_count": 159,
   "metadata": {},
   "outputs": [
    {
     "data": {
      "text/plain": [
       "{'whiskers': [<matplotlib.lines.Line2D at 0x19f6afd8a00>,\n",
       "  <matplotlib.lines.Line2D at 0x19f6afd8d60>],\n",
       " 'caps': [<matplotlib.lines.Line2D at 0x19f6b23d100>,\n",
       "  <matplotlib.lines.Line2D at 0x19f6b23d460>],\n",
       " 'boxes': [<matplotlib.lines.Line2D at 0x19f6afd86a0>],\n",
       " 'medians': [<matplotlib.lines.Line2D at 0x19f6b23d7c0>],\n",
       " 'fliers': [<matplotlib.lines.Line2D at 0x19f6b23db20>],\n",
       " 'means': []}"
      ]
     },
     "execution_count": 159,
     "metadata": {},
     "output_type": "execute_result"
    },
    {
     "data": {
      "image/png": "[encoded data removed]",
      "text/plain": [
       "<Figure size 432x288 with 1 Axes>"
      ]
     },
     "metadata": {
      "needs_background": "light"
     },
     "output_type": "display_data"
    }
   ],
   "source": [
    "# Câu 13: \n",
    "plt.boxplot(result['Tissue'])\n"
   ]
  },
  {
   "cell_type": "code",
   "execution_count": 161,
   "metadata": {},
   "outputs": [
    {
     "data": {
      "text/plain": [
       "{'whiskers': [<matplotlib.lines.Line2D at 0x19f6b316ca0>,\n",
       "  <matplotlib.lines.Line2D at 0x19f6b323040>,\n",
       "  <matplotlib.lines.Line2D at 0x19f6b3314c0>,\n",
       "  <matplotlib.lines.Line2D at 0x19f6b331820>],\n",
       " 'caps': [<matplotlib.lines.Line2D at 0x19f6b3233a0>,\n",
       "  <matplotlib.lines.Line2D at 0x19f6b323700>,\n",
       "  <matplotlib.lines.Line2D at 0x19f6b331b80>,\n",
       "  <matplotlib.lines.Line2D at 0x19f6b331ee0>],\n",
       " 'boxes': [<matplotlib.lines.Line2D at 0x19f6b316910>,\n",
       "  <matplotlib.lines.Line2D at 0x19f6b331160>],\n",
       " 'medians': [<matplotlib.lines.Line2D at 0x19f6b323a60>,\n",
       "  <matplotlib.lines.Line2D at 0x19f6b33a280>],\n",
       " 'fliers': [<matplotlib.lines.Line2D at 0x19f6b323dc0>,\n",
       "  <matplotlib.lines.Line2D at 0x19f6b33a5e0>],\n",
       " 'means': []}"
      ]
     },
     "execution_count": 161,
     "metadata": {},
     "output_type": "execute_result"
    },
    {
     "data": {
      "image/png": "[encoded data removed]",
      "text/plain": [
       "<Figure size 432x288 with 1 Axes>"
      ]
     },
     "metadata": {
      "needs_background": "light"
     },
     "output_type": "display_data"
    }
   ],
   "source": [
    "# Câu 14:\n",
    "plt.boxplot(result[['Tissue','Stool']])"
   ]
  },
  {
   "cell_type": "code",
   "execution_count": 162,
   "metadata": {},
   "outputs": [
    {
     "data": {
      "text/plain": [
       "<AxesSubplot:>"
      ]
     },
     "execution_count": 162,
     "metadata": {},
     "output_type": "execute_result"
    },
    {
     "data": {
      "image/png": "[encoded data removed]",
      "text/plain": [
       "<Figure size 432x288 with 1 Axes>"
      ]
     },
     "metadata": {
      "needs_background": "light"
     },
     "output_type": "display_data"
    }
   ],
   "source": [
    "# Câu 15:\n",
    "result[['Tissue', 'Stool']].boxplot( vert = False)"
   ]
  },
  {
   "cell_type": "code",
   "execution_count": 165,
   "metadata": {},
   "outputs": [
    {
     "data": {
      "text/plain": [
       "<AxesSubplot:>"
      ]
     },
     "execution_count": 165,
     "metadata": {},
     "output_type": "execute_result"
    },
    {
     "data": {
      "image/png": "[encoded data removed]",
      "text/plain": [
       "<Figure size 432x288 with 1 Axes>"
      ]
     },
     "metadata": {
      "needs_background": "light"
     },
     "output_type": "display_data"
    }
   ],
   "source": [
    "# Câu 16:\n",
    "sns.boxplot(dt = result[['Tissue', 'Stool']].boxplot( vert = False))"
   ]
  },
  {
   "cell_type": "code",
   "execution_count": null,
   "metadata": {},
   "outputs": [],
   "source": []
  }
 ],
 "metadata": {
  "kernelspec": {
   "display_name": "Python 3",
   "language": "python",
   "name": "python3"
  },
  "language_info": {
   "codemirror_mode": {
    "name": "ipython",
    "version": 3
   },
   "file_extension": ".py",
   "mimetype": "text/x-python",
   "name": "python",
   "nbconvert_exporter": "python",
   "pygments_lexer": "ipython3",
   "version": "3.8.5"
  }
 },
 "nbformat": 4,
 "nbformat_minor": 4
}
