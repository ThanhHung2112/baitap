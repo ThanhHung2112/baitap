{
 "cells": [
  {
   "cell_type": "code",
   "execution_count": 30,
   "metadata": {},
   "outputs": [],
   "source": [
    "import pandas as pd\n",
    "\n",
    "import numpy as np"
   ]
  },
  {
   "cell_type": "code",
   "execution_count": 31,
   "metadata": {
    "scrolled": true
   },
   "outputs": [
    {
     "data": {
      "text/plain": [
       "0    83\n",
       "1    92\n",
       "2    57\n",
       "3    23\n",
       "4    44\n",
       "5    55\n",
       "6    66\n",
       "7    13\n",
       "8    77\n",
       "9     8\n",
       "dtype: int32"
      ]
     },
     "execution_count": 31,
     "metadata": {},
     "output_type": "execute_result"
    }
   ],
   "source": [
    "# Câu 1: \n",
    "a = pd.Series(np.random.randint(100,size = 10))\n",
    "a"
   ]
  },
  {
   "cell_type": "code",
   "execution_count": 32,
   "metadata": {},
   "outputs": [
    {
     "data": {
      "text/plain": [
       "Name          Jun\n",
       "Age            19\n",
       "Job        studen\n",
       "Income        non\n",
       "Vehicle      Walk\n",
       "dtype: object"
      ]
     },
     "execution_count": 32,
     "metadata": {},
     "output_type": "execute_result"
    }
   ],
   "source": [
    "# Câu 2:\n",
    "dict_1 = {'Name':'Jun', 'Age': 19, 'Job': 'studen', 'Income': 'non', 'Vehicle': 'Walk'}\n",
    "b = pd.Series(dict_1)\n",
    "b"
   ]
  },
  {
   "cell_type": "code",
   "execution_count": 33,
   "metadata": {},
   "outputs": [
    {
     "data": {
      "text/plain": [
       "Number 0    83\n",
       "Number 1    92\n",
       "Number 2    57\n",
       "Number 3    23\n",
       "Number 4    44\n",
       "Number 5    55\n",
       "Number 6    66\n",
       "Number 7    13\n",
       "Number 8    77\n",
       "Number 9     8\n",
       "dtype: int32"
      ]
     },
     "execution_count": 33,
     "metadata": {},
     "output_type": "execute_result"
    }
   ],
   "source": [
    "# Câu 3:\n",
    "\n",
    "N_id = []\n",
    "for i in a.index:\n",
    "    N_id.append(f'Number {i}')\n",
    "c = pd.Series(a.values, index= N_id)\n",
    "c"
   ]
  },
  {
   "cell_type": "code",
   "execution_count": 35,
   "metadata": {},
   "outputs": [
    {
     "data": {
      "text/plain": [
       "Iphone           10\n",
       "Samsung Note     12\n",
       "Samsung S        30\n",
       "Nokia           100\n",
       "dtype: int64"
      ]
     },
     "execution_count": 35,
     "metadata": {},
     "output_type": "execute_result"
    }
   ],
   "source": [
    "phones = ['Iphone',\"Samsung Note\",\"Samsung S\",\"Nokia\"]\n",
    "\n",
    "quantities = [10,12,30,100]\n",
    "\n",
    "e = pd.Series(quantities, index=phones)\n",
    "e"
   ]
  },
  {
   "cell_type": "code",
   "execution_count": 36,
   "metadata": {},
   "outputs": [
    {
     "name": "stdout",
     "output_type": "stream",
     "text": [
      "Walk\n"
     ]
    }
   ],
   "source": [
    "# Câu 4:\n",
    "print(b[4])"
   ]
  },
  {
   "cell_type": "code",
   "execution_count": 37,
   "metadata": {},
   "outputs": [
    {
     "data": {
      "text/plain": [
       "8"
      ]
     },
     "execution_count": 37,
     "metadata": {},
     "output_type": "execute_result"
    }
   ],
   "source": [
    "# Câu 5:\n",
    "c['Number 9']"
   ]
  },
  {
   "cell_type": "code",
   "execution_count": 39,
   "metadata": {},
   "outputs": [
    {
     "data": {
      "text/plain": [
       "Number 0    83\n",
       "Number 1    92\n",
       "Number 2    57\n",
       "Number 3    23\n",
       "dtype: int32"
      ]
     },
     "execution_count": 39,
     "metadata": {},
     "output_type": "execute_result"
    }
   ],
   "source": [
    "# Câu 6:\n",
    "c[[int(name[-1]) < 4 for name in c.index]]"
   ]
  },
  {
   "cell_type": "code",
   "execution_count": 41,
   "metadata": {},
   "outputs": [
    {
     "data": {
      "text/plain": [
       "Cột\n",
       "0    83\n",
       "1    92\n",
       "2    57\n",
       "3    23\n",
       "4    44\n",
       "5    55\n",
       "6    66\n",
       "7    13\n",
       "8    77\n",
       "9     8\n",
       "Name:  Dãy số, dtype: int32"
      ]
     },
     "execution_count": 41,
     "metadata": {},
     "output_type": "execute_result"
    }
   ],
   "source": [
    "# Câu 7:\n",
    "a.index.name = 'Cột'\n",
    "a.name = ' Dãy số'\n",
    "a"
   ]
  },
  {
   "cell_type": "code",
   "execution_count": 44,
   "metadata": {},
   "outputs": [
    {
     "data": {
      "text/plain": [
       "0    4.418841\n",
       "1    4.521789\n",
       "2    4.043051\n",
       "3    3.135494\n",
       "4    3.784190\n",
       "5    4.007333\n",
       "6    4.189655\n",
       "7    2.564949\n",
       "8    4.343805\n",
       "9    2.079442\n",
       "Name: Logarith, dtype: float64"
      ]
     },
     "execution_count": 44,
     "metadata": {},
     "output_type": "execute_result"
    }
   ],
   "source": [
    "# Câu 8:\n",
    "lg = pd.Series([np.log(gt) for gt in a.values])\n",
    "lg.name = 'Logarith'\n",
    "lg"
   ]
  },
  {
   "cell_type": "code",
   "execution_count": 45,
   "metadata": {},
   "outputs": [
    {
     "data": {
      "text/plain": [
       "Cột\n",
       "0    83\n",
       "1    92\n",
       "2    57\n",
       "3    23\n",
       "4    44\n",
       "5    55\n",
       "6    66\n",
       "8    77\n",
       "Name:  Dãy số, dtype: int32"
      ]
     },
     "execution_count": 45,
     "metadata": {},
     "output_type": "execute_result"
    }
   ],
   "source": [
    "# Câu 9:\n",
    "a[a > 15]"
   ]
  },
  {
   "cell_type": "code",
   "execution_count": null,
   "metadata": {},
   "outputs": [],
   "source": []
  }
 ],
 "metadata": {
  "kernelspec": {
   "display_name": "Python 3",
   "language": "python",
   "name": "python3"
  },
  "language_info": {
   "codemirror_mode": {
    "name": "ipython",
    "version": 3
   },
   "file_extension": ".py",
   "mimetype": "text/x-python",
   "name": "python",
   "nbconvert_exporter": "python",
   "pygments_lexer": "ipython3",
   "version": "3.8.3"
  }
 },
 "nbformat": 4,
 "nbformat_minor": 4
}
